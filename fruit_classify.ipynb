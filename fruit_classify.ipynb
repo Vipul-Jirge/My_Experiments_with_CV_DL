{
  "nbformat": 4,
  "nbformat_minor": 0,
  "metadata": {
    "colab": {
      "name": "fruit_classify.ipynb",
      "provenance": [],
      "collapsed_sections": [],
      "authorship_tag": "ABX9TyOVLY8UNiJt6j2iqPbx27ze",
      "include_colab_link": true
    },
    "kernelspec": {
      "name": "python3",
      "display_name": "Python 3"
    },
    "language_info": {
      "name": "python"
    },
    "accelerator": "GPU",
    "gpuClass": "standard"
  },
  "cells": [
    {
      "cell_type": "markdown",
      "metadata": {
        "id": "view-in-github",
        "colab_type": "text"
      },
      "source": [
        "<a href=\"https://colab.research.google.com/github/Vipul-Jirge/My_Experiments_with_CV_DL/blob/main/fruit_classify.ipynb\" target=\"_parent\"><img src=\"https://colab.research.google.com/assets/colab-badge.svg\" alt=\"Open In Colab\"/></a>"
      ]
    },
    {
      "cell_type": "code",
      "execution_count": 1,
      "metadata": {
        "id": "_fmnV6FC_rA4",
        "colab": {
          "base_uri": "https://localhost:8080/"
        },
        "outputId": "21af825a-dc74-4aa6-db8e-f94b67bc88e3"
      },
      "outputs": [
        {
          "output_type": "stream",
          "name": "stdout",
          "text": [
            "Mounted at /content/drive/\n"
          ]
        }
      ],
      "source": [
        "from google.colab import drive\n",
        "drive.mount('/content/drive/')"
      ]
    },
    {
      "cell_type": "code",
      "source": [
        "import tensorflow as tf\n",
        "import numpy as np\n",
        "import pandas as pd\n",
        "import os\n",
        "import cv2\n",
        "import matplotlib.pyplot as plt\n",
        "import seaborn as sns\n",
        "import glob\n",
        "import shutil\n",
        "import contextlib\n",
        "import math\n",
        "import statistics as st\n",
        "\n",
        "import numpy as np\n",
        "import matplotlib.pyplot as plt\n",
        "import pandas as pd\n",
        "print(tf.__version__)\n",
        "\n",
        "from tensorflow import keras\n",
        "from keras import layers\n",
        "from keras.models import Sequential\n",
        "from keras import regularizers\n",
        "\n",
        "# device_name = tf.test.gpu_device_name()\n",
        "# if device_name != '/device:GPU:0':\n",
        "#   raise SystemError('GPU device not found')\n",
        "# print('Found GPU at: {}'.format(device_name))"
      ],
      "metadata": {
        "id": "myyGcLzDAJXY",
        "colab": {
          "base_uri": "https://localhost:8080/"
        },
        "outputId": "c7aa0347-3992-4f38-ceb6-389b57c48150"
      },
      "execution_count": 2,
      "outputs": [
        {
          "output_type": "stream",
          "name": "stdout",
          "text": [
            "2.8.2\n"
          ]
        }
      ]
    },
    {
      "cell_type": "code",
      "source": [
        "curr_dir = r\"/content/drive/MyDrive/Assignment_Uploads/Fruit_classify\"\n",
        "\n",
        "train_dir = os.path.join(curr_dir, 'train')\n",
        "test_dir = os.path.join(curr_dir, 'test')\n",
        "\n",
        "# Get count of JPGs in each sub-folder & plot \n",
        "class_names = os.listdir(os.path.join(curr_dir,train_dir))\n",
        "\n",
        "train_img_count = {i : len(glob.glob1(os.path.join(curr_dir, train_dir, i), '*.jpg')) for i in class_names}\n",
        "plt.figure(figsize=(5,5))\n",
        "plt.bar(list(train_img_count.keys()), train_img_count.values(), color='g')\n",
        "\n",
        "test_img_count = len(glob.glob1(os.path.join(curr_dir, test_dir), '*.jpg'))\n",
        "  \n",
        "print(train_img_count)\n",
        "print(test_img_count)"
      ],
      "metadata": {
        "id": "jl_jheVhAUre",
        "colab": {
          "base_uri": "https://localhost:8080/",
          "height": 356
        },
        "outputId": "7fe8750c-63cb-414f-b615-c49f38e85725"
      },
      "execution_count": 3,
      "outputs": [
        {
          "output_type": "stream",
          "name": "stdout",
          "text": [
            "{'full': 33, 'full_occlude': 25, 'partial_occlude': 19}\n",
            "24\n"
          ]
        },
        {
          "output_type": "display_data",
          "data": {
            "text/plain": [
              "<Figure size 360x360 with 1 Axes>"
            ],
            "image/png": "[encoded data removed]"
          },
          "metadata": {
            "needs_background": "light"
          }
        }
      ]
    },
    {
      "cell_type": "code",
      "source": [
        "# Set all the parameters\n",
        "batch_size = 64\n",
        "IMG_SIZE = (150, 150, 3)\n",
        "test_train_split = 0.2"
      ],
      "metadata": {
        "id": "eoew3TCBCt_1"
      },
      "execution_count": 4,
      "outputs": []
    },
    {
      "cell_type": "code",
      "source": [
        "# Create train - test DS\n",
        "train_ds = tf.keras.utils.image_dataset_from_directory(\n",
        "    train_dir,\n",
        "    validation_split=test_train_split,\n",
        "    subset=\"training\",\n",
        "    seed=123,\n",
        "    image_size=IMG_SIZE[:2],\n",
        "    batch_size=batch_size)\n",
        "\n",
        "val_ds = tf.keras.utils.image_dataset_from_directory(\n",
        "    train_dir,\n",
        "    validation_split=test_train_split,\n",
        "    subset=\"validation\",\n",
        "    seed=123,\n",
        "    image_size=IMG_SIZE[:2],\n",
        "    batch_size=batch_size)\n",
        "\n",
        "class_names = train_ds.class_names\n",
        "\n",
        "# print('Number of validation batches: %d' % tf.data.experimental.cardinality(val_ds))\n",
        "# print('Number of test batches: %d' % tf.data.experimental.cardinality(test_ds))\n",
        "\n",
        "AUTOTUNE = tf.data.AUTOTUNE\n",
        "\n",
        "train_ds = train_ds.cache().prefetch(buffer_size=AUTOTUNE)\n",
        "val_ds = val_ds.cache().prefetch(buffer_size=AUTOTUNE)\n",
        "# test_ds = test_ds.prefetch(buffer_size=AUTOTUNE)\n",
        "\n",
        "normalization_layer = layers.Rescaling(1./255)\n",
        "\n",
        "normalized_ds = train_ds.map(lambda x, y: (normalization_layer(x), y))\n",
        "image_batch, labels_batch = next(iter(normalized_ds))"
      ],
      "metadata": {
        "id": "eP1hN27iKpOi",
        "colab": {
          "base_uri": "https://localhost:8080/"
        },
        "outputId": "ce1a6673-e7b3-452c-b609-a599e904b825"
      },
      "execution_count": 5,
      "outputs": [
        {
          "output_type": "stream",
          "name": "stdout",
          "text": [
            "Found 77 files belonging to 3 classes.\n",
            "Using 62 files for training.\n",
            "Found 77 files belonging to 3 classes.\n",
            "Using 15 files for validation.\n"
          ]
        }
      ]
    },
    {
      "cell_type": "code",
      "source": [
        "# Data Augmentation\n",
        "\n",
        "data_augmentation = tf.keras.Sequential([\n",
        "  tf.keras.layers.RandomFlip('horizontal'),\n",
        "  tf.keras.layers.RandomRotation(0.2),\n",
        "  tf.keras.layers.RandomZoom(0.2),\n",
        "  # tf.keras.layers.RandomBrightness(0.3, value_range=(0, 1))\n",
        "  tf.keras.layers.RandomContrast(0.2),\n",
        "  tf.keras.layers.RandomTranslation((-0.2,0.2),(-0.2,0.2),fill_mode='nearest')\n",
        "])\n"
      ],
      "metadata": {
        "id": "_fkteXP0L3ox"
      },
      "execution_count": 6,
      "outputs": []
    },
    {
      "cell_type": "code",
      "source": [
        "# Setup CNN Architecture \n",
        "\n",
        "num_classes = len(class_names)\n",
        "\n",
        "model = Sequential([\n",
        "  layers.Rescaling(1./255, input_shape=IMG_SIZE),\n",
        "  data_augmentation,\n",
        "  layers.Conv2D(64, 3, padding='same', activation='relu'),\n",
        "  layers.MaxPooling2D(),\n",
        "  layers.BatchNormalization(),\n",
        "  layers.Conv2D(128, 3, padding='same', activation='relu'),\n",
        "  layers.MaxPooling2D(),\n",
        "  layers.BatchNormalization(),\n",
        "  layers.Conv2D(256, 3, padding='same', activation='relu'),\n",
        "  layers.MaxPooling2D(),\n",
        "  layers.BatchNormalization(),\n",
        "  layers.Conv2D(512, 3, padding='same', activation='relu'),\n",
        "  layers.MaxPooling2D(),\n",
        "  layers.Dropout(0.3),\n",
        "  layers.Flatten(),\n",
        "  layers.Dense(1024, activation='relu'),\n",
        "  layers.Dense(num_classes)\n",
        "])\n",
        "\n",
        "optimizer='adam'\n",
        "metrics=['accuracy']\n",
        "\n",
        "model.compile(optimizer = optimizer,\n",
        "            loss = tf.keras.losses.SparseCategoricalCrossentropy(from_logits=True),\n",
        "            metrics=metrics)\n",
        "\n",
        "model.summary()"
      ],
      "metadata": {
        "id": "jyNwITeLL65z",
        "colab": {
          "base_uri": "https://localhost:8080/"
        },
        "outputId": "51ee3f8c-a085-41c3-e686-08172d7102a1"
      },
      "execution_count": 8,
      "outputs": [
        {
          "output_type": "stream",
          "name": "stdout",
          "text": [
            "Model: \"sequential_2\"\n",
            "_________________________________________________________________\n",
            " Layer (type)                Output Shape              Param #   \n",
            "=================================================================\n",
            " rescaling_2 (Rescaling)     (None, 150, 150, 3)       0         \n",
            "                                                                 \n",
            " sequential (Sequential)     (None, 150, 150, 3)       0         \n",
            "                                                                 \n",
            " conv2d_4 (Conv2D)           (None, 150, 150, 64)      1792      \n",
            "                                                                 \n",
            " max_pooling2d_4 (MaxPooling  (None, 75, 75, 64)       0         \n",
            " 2D)                                                             \n",
            "                                                                 \n",
            " batch_normalization_3 (Batc  (None, 75, 75, 64)       256       \n",
            " hNormalization)                                                 \n",
            "                                                                 \n",
            " conv2d_5 (Conv2D)           (None, 75, 75, 128)       73856     \n",
            "                                                                 \n",
            " max_pooling2d_5 (MaxPooling  (None, 37, 37, 128)      0         \n",
            " 2D)                                                             \n",
            "                                                                 \n",
            " batch_normalization_4 (Batc  (None, 37, 37, 128)      512       \n",
            " hNormalization)                                                 \n",
            "                                                                 \n",
            " conv2d_6 (Conv2D)           (None, 37, 37, 256)       295168    \n",
            "                                                                 \n",
            " max_pooling2d_6 (MaxPooling  (None, 18, 18, 256)      0         \n",
            " 2D)                                                             \n",
            "                                                                 \n",
            " batch_normalization_5 (Batc  (None, 18, 18, 256)      1024      \n",
            " hNormalization)                                                 \n",
            "                                                                 \n",
            " conv2d_7 (Conv2D)           (None, 18, 18, 512)       1180160   \n",
            "                                                                 \n",
            " max_pooling2d_7 (MaxPooling  (None, 9, 9, 512)        0         \n",
            " 2D)                                                             \n",
            "                                                                 \n",
            " dropout_1 (Dropout)         (None, 9, 9, 512)         0         \n",
            "                                                                 \n",
            " flatten_1 (Flatten)         (None, 41472)             0         \n",
            "                                                                 \n",
            " dense_2 (Dense)             (None, 1024)              42468352  \n",
            "                                                                 \n",
            " dense_3 (Dense)             (None, 3)                 3075      \n",
            "                                                                 \n",
            "=================================================================\n",
            "Total params: 44,024,195\n",
            "Trainable params: 44,023,299\n",
            "Non-trainable params: 896\n",
            "_________________________________________________________________\n"
          ]
        }
      ]
    },
    {
      "cell_type": "code",
      "source": [
        "epochs = 50\n",
        "\n",
        "callback = keras.callbacks.EarlyStopping(\n",
        "    monitor='accuracy', # accuracy, loss,val_accuracy, val_loss, \n",
        "    min_delta=0,\n",
        "    patience=8,\n",
        "    verbose=0,\n",
        "    mode='auto',\n",
        "    baseline=None,\n",
        "    restore_best_weights=False\n",
        ")\n",
        "\n",
        "history = model.fit(\n",
        "  train_ds,\n",
        "  validation_data=val_ds,\n",
        "  epochs=epochs,\n",
        "  callbacks=[callback]\n",
        ")"
      ],
      "metadata": {
        "id": "TN0R2DzKNImn",
        "colab": {
          "base_uri": "https://localhost:8080/"
        },
        "outputId": "c1038a04-1ae4-47ac-bdd0-23d05563205c"
      },
      "execution_count": 9,
      "outputs": [
        {
          "output_type": "stream",
          "name": "stdout",
          "text": [
            "Epoch 1/50\n",
            "1/1 [==============================] - 18s 18s/step - loss: 1.5770 - accuracy: 0.2258 - val_loss: 7.4747 - val_accuracy: 0.3333\n",
            "Epoch 2/50\n",
            "1/1 [==============================] - 0s 205ms/step - loss: 172.8575 - accuracy: 0.4516 - val_loss: 3.4792 - val_accuracy: 0.2000\n",
            "Epoch 3/50\n",
            "1/1 [==============================] - 0s 169ms/step - loss: 80.3101 - accuracy: 0.2581 - val_loss: 1.5355 - val_accuracy: 0.2000\n",
            "Epoch 4/50\n",
            "1/1 [==============================] - 0s 157ms/step - loss: 16.6259 - accuracy: 0.2581 - val_loss: 2.0348 - val_accuracy: 0.3333\n",
            "Epoch 5/50\n",
            "1/1 [==============================] - 0s 159ms/step - loss: 23.9463 - accuracy: 0.4516 - val_loss: 2.1766 - val_accuracy: 0.4667\n",
            "Epoch 6/50\n",
            "1/1 [==============================] - 0s 165ms/step - loss: 26.4875 - accuracy: 0.3710 - val_loss: 2.4132 - val_accuracy: 0.4000\n",
            "Epoch 7/50\n",
            "1/1 [==============================] - 0s 160ms/step - loss: 23.5260 - accuracy: 0.4194 - val_loss: 2.0632 - val_accuracy: 0.4000\n",
            "Epoch 8/50\n",
            "1/1 [==============================] - 0s 160ms/step - loss: 20.0359 - accuracy: 0.5484 - val_loss: 1.8079 - val_accuracy: 0.4667\n",
            "Epoch 9/50\n",
            "1/1 [==============================] - 0s 160ms/step - loss: 14.9223 - accuracy: 0.5323 - val_loss: 1.5475 - val_accuracy: 0.4667\n",
            "Epoch 10/50\n",
            "1/1 [==============================] - 0s 160ms/step - loss: 10.3044 - accuracy: 0.3710 - val_loss: 1.4645 - val_accuracy: 0.4000\n",
            "Epoch 11/50\n",
            "1/1 [==============================] - 0s 157ms/step - loss: 6.3821 - accuracy: 0.5000 - val_loss: 1.4188 - val_accuracy: 0.3333\n",
            "Epoch 12/50\n",
            "1/1 [==============================] - 0s 160ms/step - loss: 4.0030 - accuracy: 0.5645 - val_loss: 1.0749 - val_accuracy: 0.5333\n",
            "Epoch 13/50\n",
            "1/1 [==============================] - 0s 160ms/step - loss: 1.7781 - accuracy: 0.5968 - val_loss: 1.5731 - val_accuracy: 0.2000\n",
            "Epoch 14/50\n",
            "1/1 [==============================] - 0s 159ms/step - loss: 5.0209 - accuracy: 0.4032 - val_loss: 1.5339 - val_accuracy: 0.2000\n",
            "Epoch 15/50\n",
            "1/1 [==============================] - 0s 160ms/step - loss: 4.1454 - accuracy: 0.5968 - val_loss: 1.2117 - val_accuracy: 0.3333\n",
            "Epoch 16/50\n",
            "1/1 [==============================] - 0s 160ms/step - loss: 4.3668 - accuracy: 0.5484 - val_loss: 1.0681 - val_accuracy: 0.4000\n",
            "Epoch 17/50\n",
            "1/1 [==============================] - 0s 159ms/step - loss: 1.6610 - accuracy: 0.6129 - val_loss: 1.0593 - val_accuracy: 0.5333\n",
            "Epoch 18/50\n",
            "1/1 [==============================] - 0s 164ms/step - loss: 3.4956 - accuracy: 0.4194 - val_loss: 1.0115 - val_accuracy: 0.4667\n",
            "Epoch 19/50\n",
            "1/1 [==============================] - 0s 162ms/step - loss: 3.6842 - accuracy: 0.4194 - val_loss: 1.0086 - val_accuracy: 0.4667\n",
            "Epoch 20/50\n",
            "1/1 [==============================] - 0s 158ms/step - loss: 2.2021 - accuracy: 0.6774 - val_loss: 1.4045 - val_accuracy: 0.3333\n",
            "Epoch 21/50\n",
            "1/1 [==============================] - 0s 159ms/step - loss: 3.1984 - accuracy: 0.5645 - val_loss: 1.1592 - val_accuracy: 0.2667\n",
            "Epoch 22/50\n",
            "1/1 [==============================] - 0s 161ms/step - loss: 1.6481 - accuracy: 0.6935 - val_loss: 0.9045 - val_accuracy: 0.6000\n",
            "Epoch 23/50\n",
            "1/1 [==============================] - 0s 166ms/step - loss: 2.0411 - accuracy: 0.5484 - val_loss: 0.8627 - val_accuracy: 0.6000\n",
            "Epoch 24/50\n",
            "1/1 [==============================] - 0s 160ms/step - loss: 1.8021 - accuracy: 0.6129 - val_loss: 1.0637 - val_accuracy: 0.6000\n",
            "Epoch 25/50\n",
            "1/1 [==============================] - 0s 163ms/step - loss: 1.6537 - accuracy: 0.6613 - val_loss: 1.4801 - val_accuracy: 0.3333\n",
            "Epoch 26/50\n",
            "1/1 [==============================] - 0s 164ms/step - loss: 1.1202 - accuracy: 0.7419 - val_loss: 1.7610 - val_accuracy: 0.3333\n",
            "Epoch 27/50\n",
            "1/1 [==============================] - 0s 159ms/step - loss: 1.3558 - accuracy: 0.7419 - val_loss: 1.6424 - val_accuracy: 0.3333\n",
            "Epoch 28/50\n",
            "1/1 [==============================] - 0s 158ms/step - loss: 0.9621 - accuracy: 0.7419 - val_loss: 1.2778 - val_accuracy: 0.3333\n",
            "Epoch 29/50\n",
            "1/1 [==============================] - 0s 161ms/step - loss: 1.3456 - accuracy: 0.6935 - val_loss: 1.3334 - val_accuracy: 0.3333\n",
            "Epoch 30/50\n",
            "1/1 [==============================] - 0s 159ms/step - loss: 1.2714 - accuracy: 0.7097 - val_loss: 2.3400 - val_accuracy: 0.3333\n",
            "Epoch 31/50\n",
            "1/1 [==============================] - 0s 163ms/step - loss: 1.1248 - accuracy: 0.7581 - val_loss: 3.6187 - val_accuracy: 0.3333\n",
            "Epoch 32/50\n",
            "1/1 [==============================] - 0s 159ms/step - loss: 0.8322 - accuracy: 0.7581 - val_loss: 4.0399 - val_accuracy: 0.3333\n",
            "Epoch 33/50\n",
            "1/1 [==============================] - 0s 159ms/step - loss: 0.9326 - accuracy: 0.6935 - val_loss: 3.1238 - val_accuracy: 0.3333\n",
            "Epoch 34/50\n",
            "1/1 [==============================] - 0s 157ms/step - loss: 0.9684 - accuracy: 0.7581 - val_loss: 2.0807 - val_accuracy: 0.4667\n",
            "Epoch 35/50\n",
            "1/1 [==============================] - 0s 161ms/step - loss: 1.5561 - accuracy: 0.6290 - val_loss: 2.8166 - val_accuracy: 0.3333\n",
            "Epoch 36/50\n",
            "1/1 [==============================] - 0s 162ms/step - loss: 1.2839 - accuracy: 0.6774 - val_loss: 4.7231 - val_accuracy: 0.3333\n",
            "Epoch 37/50\n",
            "1/1 [==============================] - 0s 160ms/step - loss: 0.6061 - accuracy: 0.8387 - val_loss: 5.9810 - val_accuracy: 0.3333\n",
            "Epoch 38/50\n",
            "1/1 [==============================] - 0s 160ms/step - loss: 1.4154 - accuracy: 0.7742 - val_loss: 5.6272 - val_accuracy: 0.3333\n",
            "Epoch 39/50\n",
            "1/1 [==============================] - 0s 157ms/step - loss: 1.5164 - accuracy: 0.7419 - val_loss: 3.5796 - val_accuracy: 0.3333\n",
            "Epoch 40/50\n",
            "1/1 [==============================] - 0s 165ms/step - loss: 1.0070 - accuracy: 0.7258 - val_loss: 2.2439 - val_accuracy: 0.3333\n",
            "Epoch 41/50\n",
            "1/1 [==============================] - 0s 172ms/step - loss: 1.2459 - accuracy: 0.5806 - val_loss: 3.3288 - val_accuracy: 0.3333\n",
            "Epoch 42/50\n",
            "1/1 [==============================] - 0s 173ms/step - loss: 0.4926 - accuracy: 0.8387 - val_loss: 4.7717 - val_accuracy: 0.3333\n",
            "Epoch 43/50\n",
            "1/1 [==============================] - 0s 174ms/step - loss: 0.9590 - accuracy: 0.6935 - val_loss: 5.2018 - val_accuracy: 0.3333\n",
            "Epoch 44/50\n",
            "1/1 [==============================] - 0s 170ms/step - loss: 0.6854 - accuracy: 0.7419 - val_loss: 4.4183 - val_accuracy: 0.3333\n",
            "Epoch 45/50\n",
            "1/1 [==============================] - 0s 168ms/step - loss: 0.4050 - accuracy: 0.8710 - val_loss: 3.4954 - val_accuracy: 0.3333\n",
            "Epoch 46/50\n",
            "1/1 [==============================] - 0s 173ms/step - loss: 0.7308 - accuracy: 0.6935 - val_loss: 2.7728 - val_accuracy: 0.3333\n",
            "Epoch 47/50\n",
            "1/1 [==============================] - 0s 175ms/step - loss: 1.1254 - accuracy: 0.6774 - val_loss: 3.0992 - val_accuracy: 0.3333\n",
            "Epoch 48/50\n",
            "1/1 [==============================] - 0s 179ms/step - loss: 0.5444 - accuracy: 0.8226 - val_loss: 3.6554 - val_accuracy: 0.3333\n",
            "Epoch 49/50\n",
            "1/1 [==============================] - 0s 170ms/step - loss: 0.7031 - accuracy: 0.7258 - val_loss: 4.5371 - val_accuracy: 0.3333\n",
            "Epoch 50/50\n",
            "1/1 [==============================] - 0s 165ms/step - loss: 0.6930 - accuracy: 0.7097 - val_loss: 4.7303 - val_accuracy: 0.3333\n"
          ]
        }
      ]
    },
    {
      "cell_type": "code",
      "source": [
        "acc = history.history['accuracy']\n",
        "val_acc = history.history['val_accuracy']\n",
        "\n",
        "loss = history.history['loss']\n",
        "val_loss = history.history['val_loss']\n",
        "\n",
        "epochs_range = range(epochs)\n",
        "\n",
        "plt.figure(figsize=(8, 8))\n",
        "plt.subplot(1, 2, 1)\n",
        "plt.plot(epochs_range, acc, label='Training Accuracy')\n",
        "plt.plot(epochs_range, val_acc, label='Validation Accuracy')\n",
        "plt.legend(loc='lower right')\n",
        "plt.title('Training and Validation Accuracy')\n",
        "\n",
        "plt.subplot(1, 2, 2)\n",
        "plt.plot(epochs_range, loss, label='Training Loss')\n",
        "plt.plot(epochs_range, val_loss, label='Validation Loss')\n",
        "plt.legend(loc='upper right')\n",
        "plt.title('Training and Validation Loss')\n",
        "plt.show()"
      ],
      "metadata": {
        "id": "WrLFDwv1QZga",
        "colab": {
          "base_uri": "https://localhost:8080/",
          "height": 499
        },
        "outputId": "9fef786c-4066-46a4-942b-9cba004dba3b"
      },
      "execution_count": 10,
      "outputs": [
        {
          "output_type": "display_data",
          "data": {
            "text/plain": [
              "<Figure size 576x576 with 2 Axes>"
            ],
            "image/png": "[encoded data removed]"
          },
          "metadata": {
            "needs_background": "light"
          }
        }
      ]
    },
    {
      "cell_type": "code",
      "source": [
        "\n",
        "test_ds = tf.keras.utils.image_dataset_from_directory(test_dir)\n",
        "# yhat = model.predict(X)\n",
        "# import cv2_imshow\n",
        "# img = cv2.imread(os.path.join(curr_dir,os.listdir(test_dir)[0]))\n",
        "\n",
        "# plt.imshow(img)\n",
        "# history\n",
        "# print(os.path.join(curr_dir,os.listdir(test_dir)[0]))\n"
      ],
      "metadata": {
        "id": "OCidVPCXQabx",
        "colab": {
          "base_uri": "https://localhost:8080/",
          "height": 409
        },
        "outputId": "55486f93-71ca-49b9-daca-53237af95eed"
      },
      "execution_count": null,
      "outputs": [
        {
          "output_type": "stream",
          "name": "stdout",
          "text": [
            "/bin/bash: line 0: cd: test_dir: No such file or directory\n",
            "Found 0 files belonging to 0 classes.\n"
          ]
        },
        {
          "output_type": "error",
          "ename": "ValueError",
          "evalue": "ignored",
          "traceback": [
            "\u001b[0;31m---------------------------------------------------------------------------\u001b[0m",
            "\u001b[0;31mValueError\u001b[0m                                Traceback (most recent call last)",
            "\u001b[0;32m<ipython-input-36-78db4f9ab86a>\u001b[0m in \u001b[0;36m<module>\u001b[0;34m\u001b[0m\n\u001b[1;32m      1\u001b[0m \u001b[0;31m# matrix = metrics.confusion_matrix(y_test.argmax(axis=1), y_pred.argmax(axis=1))\u001b[0m\u001b[0;34m\u001b[0m\u001b[0;34m\u001b[0m\u001b[0;34m\u001b[0m\u001b[0m\n\u001b[1;32m      2\u001b[0m \u001b[0mget_ipython\u001b[0m\u001b[0;34m(\u001b[0m\u001b[0;34m)\u001b[0m\u001b[0;34m.\u001b[0m\u001b[0msystem\u001b[0m\u001b[0;34m(\u001b[0m\u001b[0;34m'cd test_dir'\u001b[0m\u001b[0;34m)\u001b[0m\u001b[0;34m\u001b[0m\u001b[0;34m\u001b[0m\u001b[0m\n\u001b[0;32m----> 3\u001b[0;31m \u001b[0mtest_ds\u001b[0m \u001b[0;34m=\u001b[0m \u001b[0mtf\u001b[0m\u001b[0;34m.\u001b[0m\u001b[0mkeras\u001b[0m\u001b[0;34m.\u001b[0m\u001b[0mutils\u001b[0m\u001b[0;34m.\u001b[0m\u001b[0mimage_dataset_from_directory\u001b[0m\u001b[0;34m(\u001b[0m\u001b[0mtest_dir\u001b[0m\u001b[0;34m)\u001b[0m\u001b[0;34m\u001b[0m\u001b[0;34m\u001b[0m\u001b[0m\n\u001b[0m\u001b[1;32m      4\u001b[0m \u001b[0;31m# import cv2_imshow\u001b[0m\u001b[0;34m\u001b[0m\u001b[0;34m\u001b[0m\u001b[0;34m\u001b[0m\u001b[0m\n\u001b[1;32m      5\u001b[0m \u001b[0;31m# img = cv2.imread(os.path.join(curr_dir,os.listdir(test_dir)[0]))\u001b[0m\u001b[0;34m\u001b[0m\u001b[0;34m\u001b[0m\u001b[0;34m\u001b[0m\u001b[0m\n",
            "\u001b[0;32m/usr/local/lib/python3.7/dist-packages/keras/preprocessing/image_dataset.py\u001b[0m in \u001b[0;36mimage_dataset_from_directory\u001b[0;34m(directory, labels, label_mode, class_names, color_mode, batch_size, image_size, shuffle, seed, validation_split, subset, interpolation, follow_links, crop_to_aspect_ratio, **kwargs)\u001b[0m\n\u001b[1;32m    207\u001b[0m       image_paths, labels, validation_split, subset)\n\u001b[1;32m    208\u001b[0m   \u001b[0;32mif\u001b[0m \u001b[0;32mnot\u001b[0m \u001b[0mimage_paths\u001b[0m\u001b[0;34m:\u001b[0m\u001b[0;34m\u001b[0m\u001b[0;34m\u001b[0m\u001b[0m\n\u001b[0;32m--> 209\u001b[0;31m     raise ValueError(f'No images found in directory {directory}. '\n\u001b[0m\u001b[1;32m    210\u001b[0m                      f'Allowed formats: {ALLOWLIST_FORMATS}')\n\u001b[1;32m    211\u001b[0m \u001b[0;34m\u001b[0m\u001b[0m\n",
            "\u001b[0;31mValueError\u001b[0m: No images found in directory /content/drive/MyDrive/Assignment_Uploads/Fruit_classify/test. Allowed formats: ('.bmp', '.gif', '.jpeg', '.jpg', '.png')"
          ]
        }
      ]
    }
  ]
}